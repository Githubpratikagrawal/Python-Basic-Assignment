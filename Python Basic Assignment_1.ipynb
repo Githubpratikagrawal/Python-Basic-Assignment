{
 "cells": [
  {
   "cell_type": "raw",
   "id": "a2262c23",
   "metadata": {},
   "source": [
    "1. In the below elements which of them are values or an expression? eg:- values can be integer or string and expressions will be mathematical operators.\n",
    "*\n",
    "'hello'\n",
    "-87.8\n",
    "-\n",
    "/\n",
    "+\n",
    "6\n",
    "\n",
    "Ans:\n",
    "Values are -> 'hello', -87.8, 6\n",
    "Expressions are -> *, -, /, +"
   ]
  },
  {
   "cell_type": "raw",
   "id": "a6dce9a3",
   "metadata": {},
   "source": [
    "2. What is the difference between string and variable?\n",
    "\n",
    "Ans: Variable can be define as a name of the location (memory of the computer) and can store everything from string to number and can be manupalte as an when required. But string is the value inside the quotes assigned to a string. "
   ]
  },
  {
   "cell_type": "raw",
   "id": "28e9d0b0",
   "metadata": {},
   "source": [
    "3. Describe three different data types.\n",
    "\n",
    "Ans:\n",
    "1. Text Type -> string\n",
    "2. Numeric Type -> integer, float, complex\n",
    "3. sequence Type -> list, tuple, range"
   ]
  },
  {
   "cell_type": "raw",
   "id": "19ee6015",
   "metadata": {},
   "source": [
    "4. What is an expression made up of? What do all expressions do?\n",
    "\n",
    "Ans: An expression is a combination of operators and operands. Any expressions perform some operations on the data and produce the result out of it."
   ]
  },
  {
   "cell_type": "raw",
   "id": "74b931da",
   "metadata": {},
   "source": [
    "5. This assignment statements, like spam = 10. What is the difference between an expression and a statement?\n",
    "\n",
    "Ans: An expression always produce or return a result value whereas the execution of a statement may or may not produce or display a result value, it does only whatever the statement says."
   ]
  },
  {
   "cell_type": "raw",
   "id": "4900a331",
   "metadata": {},
   "source": [
    "6. After running the following code, what does the variable bacon contain?\n",
    "bacon = 22\n",
    "bacon + 1\n",
    "\n",
    "Ans: Bacon will contain 22 as an value because in the above, result of the expression is not assigned to bacon."
   ]
  },
  {
   "cell_type": "raw",
   "id": "87db7072",
   "metadata": {},
   "source": [
    "7. What should the values of the following two terms be?\n",
    "'spam' + 'spamspam'\n",
    "'spam' * 3\n",
    "\n",
    "Ans:\n",
    "1. 'spam' + 'spamspam' = 'spamspamspam'\n",
    "2. 'spam' * 3 = 'spamspamspam'"
   ]
  },
  {
   "cell_type": "raw",
   "id": "5c55b070",
   "metadata": {},
   "source": [
    "8. Why is eggs a valid variable name while 100 is invalid?\n",
    "\n",
    "Ans: Because in python, variable must start with a letter or the underscore character and so eggs is a valid variable and 100 is a numeric value so it is invalid."
   ]
  },
  {
   "cell_type": "raw",
   "id": "a96bf5a9",
   "metadata": {},
   "source": [
    "9. What three functions can be used to get the integer, floating-point number, or string\n",
    "version of a value?\n",
    "\n",
    "Ans: int(), float(), str()"
   ]
  },
  {
   "cell_type": "raw",
   "id": "b9637159",
   "metadata": {},
   "source": [
    "10. Why does this expression cause an error? How can you fix it?\n",
    "'I have eaten' + 99 + 'burritos.'\n",
    "\n",
    "Ans: Because it can only concatenate string (not \"integer\") to string. It can be fix using function called str() which convert valu in string. below is the example.\n",
    "example -> 'I have eaten ' + str( 99 ) + ' burritos.'"
   ]
  }
 ],
 "metadata": {
  "kernelspec": {
   "display_name": "Python 3 (ipykernel)",
   "language": "python",
   "name": "python3"
  },
  "language_info": {
   "codemirror_mode": {
    "name": "ipython",
    "version": 3
   },
   "file_extension": ".py",
   "mimetype": "text/x-python",
   "name": "python",
   "nbconvert_exporter": "python",
   "pygments_lexer": "ipython3",
   "version": "3.9.7"
  }
 },
 "nbformat": 4,
 "nbformat_minor": 5
}
